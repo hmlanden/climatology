{
 "cells": [
  {
   "cell_type": "code",
   "execution_count": 11,
   "metadata": {
    "collapsed": true
   },
   "outputs": [],
   "source": [
    "import pandas as pd\n",
    "import datetime as dt\n",
    "\n",
    "# read in CSV\n",
    "data = pd.read_csv(\"../data/pollution_us_2000_2016.csv\")"
   ]
  },
  {
   "cell_type": "code",
   "execution_count": 12,
   "metadata": {
    "collapsed": true
   },
   "outputs": [],
   "source": [
    "# reduce to columns I care about, reset index, and delete old index\n",
    "data = data[['Date Local', 'State', 'City', \n",
    "             'NO2 Mean', 'NO2 Units', \n",
    "             'SO2 Mean', 'SO2 Units', \n",
    "             'CO Mean', 'CO Units']]\n",
    "\n",
    "# drop any empty values\n",
    "data = data.dropna(axis=0,how='any')"
   ]
  },
  {
   "cell_type": "code",
   "execution_count": 13,
   "metadata": {
    "collapsed": true
   },
   "outputs": [],
   "source": [
    "# reformat date as datetime column\n",
    "data['Date Local'] = pd.to_datetime(data['Date Local'], format=\"%Y/%m/%d\")"
   ]
  },
  {
   "cell_type": "code",
   "execution_count": 16,
   "metadata": {},
   "outputs": [
    {
     "data": {
      "text/html": [
       "<div>\n",
       "<style scoped>\n",
       "    .dataframe tbody tr th:only-of-type {\n",
       "        vertical-align: middle;\n",
       "    }\n",
       "\n",
       "    .dataframe tbody tr th {\n",
       "        vertical-align: top;\n",
       "    }\n",
       "\n",
       "    .dataframe thead th {\n",
       "        text-align: right;\n",
       "    }\n",
       "</style>\n",
       "<table border=\"1\" class=\"dataframe\">\n",
       "  <thead>\n",
       "    <tr style=\"text-align: right;\">\n",
       "      <th></th>\n",
       "      <th>State</th>\n",
       "      <th>City</th>\n",
       "      <th>Date Local</th>\n",
       "      <th>NO2 Mean</th>\n",
       "      <th>SO2 Mean</th>\n",
       "      <th>CO Mean</th>\n",
       "    </tr>\n",
       "  </thead>\n",
       "  <tbody>\n",
       "    <tr>\n",
       "      <th>0</th>\n",
       "      <td>Alabama</td>\n",
       "      <td>Birmingham</td>\n",
       "      <td>2013-12-01</td>\n",
       "      <td>17.208333</td>\n",
       "      <td>0.285390</td>\n",
       "      <td>0.262879</td>\n",
       "    </tr>\n",
       "    <tr>\n",
       "      <th>1</th>\n",
       "      <td>Alabama</td>\n",
       "      <td>Birmingham</td>\n",
       "      <td>2013-12-02</td>\n",
       "      <td>20.687500</td>\n",
       "      <td>0.531666</td>\n",
       "      <td>0.352812</td>\n",
       "    </tr>\n",
       "    <tr>\n",
       "      <th>2</th>\n",
       "      <td>Alabama</td>\n",
       "      <td>Birmingham</td>\n",
       "      <td>2013-12-03</td>\n",
       "      <td>14.912500</td>\n",
       "      <td>0.252632</td>\n",
       "      <td>0.237575</td>\n",
       "    </tr>\n",
       "    <tr>\n",
       "      <th>3</th>\n",
       "      <td>Alabama</td>\n",
       "      <td>Birmingham</td>\n",
       "      <td>2013-12-04</td>\n",
       "      <td>7.825000</td>\n",
       "      <td>0.123052</td>\n",
       "      <td>0.115152</td>\n",
       "    </tr>\n",
       "    <tr>\n",
       "      <th>4</th>\n",
       "      <td>Alabama</td>\n",
       "      <td>Birmingham</td>\n",
       "      <td>2013-12-05</td>\n",
       "      <td>8.004762</td>\n",
       "      <td>-0.014285</td>\n",
       "      <td>0.117575</td>\n",
       "    </tr>\n",
       "  </tbody>\n",
       "</table>\n",
       "</div>"
      ],
      "text/plain": [
       "     State        City Date Local   NO2 Mean  SO2 Mean   CO Mean\n",
       "0  Alabama  Birmingham 2013-12-01  17.208333  0.285390  0.262879\n",
       "1  Alabama  Birmingham 2013-12-02  20.687500  0.531666  0.352812\n",
       "2  Alabama  Birmingham 2013-12-03  14.912500  0.252632  0.237575\n",
       "3  Alabama  Birmingham 2013-12-04   7.825000  0.123052  0.115152\n",
       "4  Alabama  Birmingham 2013-12-05   8.004762 -0.014285  0.117575"
      ]
     },
     "execution_count": 16,
     "metadata": {},
     "output_type": "execute_result"
    }
   ],
   "source": [
    "data_new = data.groupby(['State', 'City', 'Date Local']).mean().reset_index()\n",
    "data_new.head()"
   ]
  },
  {
   "cell_type": "code",
   "execution_count": 17,
   "metadata": {
    "collapsed": true
   },
   "outputs": [],
   "source": [
    "data_new.to_csv(path_or_buf=\"../data/pollution_cleaned.csv\")"
   ]
  },
  {
   "cell_type": "code",
   "execution_count": 19,
   "metadata": {},
   "outputs": [
    {
     "data": {
      "text/plain": [
       "{'CO': 'Parts per million',\n",
       " 'NO2': 'Parts per billion',\n",
       " 'SO2': 'Parts per billion'}"
      ]
     },
     "execution_count": 19,
     "metadata": {},
     "output_type": "execute_result"
    }
   ],
   "source": [
    "units = {'NO2':data['NO2 Units'][0],\n",
    "         'SO2':data['SO2 Units'][0],\n",
    "         'CO':data['CO Units'][0]}\n",
    "units"
   ]
  }
 ],
 "metadata": {
  "kernelspec": {
   "display_name": "Python [conda env:PythonData]",
   "language": "python",
   "name": "conda-env-PythonData-py"
  },
  "language_info": {
   "codemirror_mode": {
    "name": "ipython",
    "version": 3
   },
   "file_extension": ".py",
   "mimetype": "text/x-python",
   "name": "python",
   "nbconvert_exporter": "python",
   "pygments_lexer": "ipython3",
   "version": "3.6.4"
  }
 },
 "nbformat": 4,
 "nbformat_minor": 2
}
